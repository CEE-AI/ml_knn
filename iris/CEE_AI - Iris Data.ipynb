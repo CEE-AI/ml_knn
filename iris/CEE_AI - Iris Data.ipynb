{
 "cells": [
  {
   "cell_type": "markdown",
   "id": "85c19041",
   "metadata": {},
   "source": [
    "# Setup"
   ]
  },
  {
   "cell_type": "code",
   "execution_count": 1,
   "id": "542a6734",
   "metadata": {},
   "outputs": [],
   "source": [
    "# import common libraries\n",
    "import pandas as pd\n",
    "import numpy as np\n",
    "import matplotlib.pyplot as plt\n",
    "import seaborn as sns\n",
    "import math\n",
    "import operator\n",
    "\n",
    "# import specific components from scikit-learn\n",
    "from sklearn.model_selection import train_test_split\n",
    "from sklearn.model_selection import cross_val_score\n",
    "from sklearn.preprocessing import StandardScaler\n",
    "from sklearn.neighbors import KNeighborsClassifier\n",
    "from sklearn.metrics import mean_absolute_error, mean_squared_error, r2_score\n",
    "from sklearn.metrics import accuracy_score\n",
    "from sklearn.metrics import classification_report\n",
    "from sklearn.metrics import recall_score , precision_score , roc_auc_score ,roc_curve\n",
    "from sklearn.metrics import confusion_matrix\n",
    "from sklearn.svm import SVC\n",
    "\n",
    "# enhanced stats functions\n",
    "from scipy import stats\n",
    "\n",
    "# for ease of data profiling\n",
    "from pandas_profiling import ProfileReport\n",
    "\n",
    "# for removal of warnings\n",
    "import warnings\n",
    "warnings.filterwarnings(\"ignore\")"
   ]
  },
  {
   "cell_type": "code",
   "execution_count": 2,
   "id": "de460376",
   "metadata": {
    "scrolled": false
   },
   "outputs": [
    {
     "name": "stdout",
     "output_type": "stream",
     "text": [
      "pandas version  : 1.4.3\n",
      "numpy version   : 1.23.1\n",
      "seaborn version : 0.11.2\n"
     ]
    }
   ],
   "source": [
    "# print environment setup details\n",
    "print(f\"pandas version  : {pd.__version__}\")  # 1.4.3\n",
    "print(f\"numpy version   : {np.__version__}\")  # 1.23.1\n",
    "print(f\"seaborn version : {sns.__version__}\") # 0.11.2"
   ]
  },
  {
   "cell_type": "markdown",
   "id": "db036962",
   "metadata": {},
   "source": [
    "Here, we also set the seed for numpy's random number generator such that our results are fully reproducible. This is because the other libraries (e.g. scikit-learn) use this random number generator, so if we set the seed we will always generate the same random numbers in the same sequence.\n",
    "\n",
    "Thus, whenever we run the notebook from top-to-bottom, we will end up with the *exact* same results! "
   ]
  },
  {
   "cell_type": "code",
   "execution_count": 3,
   "id": "2e31b428",
   "metadata": {},
   "outputs": [],
   "source": [
    "SEED = 123\n",
    "np.random.seed(SEED)"
   ]
  },
  {
   "cell_type": "markdown",
   "id": "644820a7",
   "metadata": {},
   "source": [
    "# Data Loading\n",
    "To load in the data for this project, read in `iris.csv` into a variable called `iris` as a pandas DataFrame. The first five rows of the DataFrame should look like this:\n",
    "\n",
    "|       | sepal_length | sepal_width | petal_length | petal_width |   species   |\n",
    "| ----- | ------------ | ----------- | ------------ | ----------- | ----------- |\n",
    "| **0** |      5.1     |     3.5     |     1.4      |     0.2     | iris-setosa |\n",
    "| **1** |      4.9     |     3.0     |     1.4      |     0.2     | iris-setosa |\n",
    "| **2** |      4.7     |     3.2     |     1.3      |     0.2     | iris-setosa |\n",
    "| **3** |      4.6     |     3.1     |     1.5      |     0.2     | iris-setosa |\n",
    "| **4** |      5.0     |     3.6     |     1.4      |     0.2     | iris-setosa |"
   ]
  },
  {
   "cell_type": "code",
   "execution_count": 4,
   "id": "07b0d621",
   "metadata": {},
   "outputs": [],
   "source": [
    "# read in data\n",
    "iris = pd.read_csv('./iris.csv')"
   ]
  },
  {
   "cell_type": "code",
   "execution_count": 5,
   "id": "b181c251",
   "metadata": {},
   "outputs": [
    {
     "data": {
      "text/html": [
       "<div>\n",
       "<style scoped>\n",
       "    .dataframe tbody tr th:only-of-type {\n",
       "        vertical-align: middle;\n",
       "    }\n",
       "\n",
       "    .dataframe tbody tr th {\n",
       "        vertical-align: top;\n",
       "    }\n",
       "\n",
       "    .dataframe thead th {\n",
       "        text-align: right;\n",
       "    }\n",
       "</style>\n",
       "<table border=\"1\" class=\"dataframe\">\n",
       "  <thead>\n",
       "    <tr style=\"text-align: right;\">\n",
       "      <th></th>\n",
       "      <th>sepal_length</th>\n",
       "      <th>sepal_width</th>\n",
       "      <th>petal_length</th>\n",
       "      <th>petal_width</th>\n",
       "      <th>species</th>\n",
       "    </tr>\n",
       "  </thead>\n",
       "  <tbody>\n",
       "    <tr>\n",
       "      <th>0</th>\n",
       "      <td>5.1</td>\n",
       "      <td>3.5</td>\n",
       "      <td>1.4</td>\n",
       "      <td>0.2</td>\n",
       "      <td>Iris-setosa</td>\n",
       "    </tr>\n",
       "    <tr>\n",
       "      <th>1</th>\n",
       "      <td>4.9</td>\n",
       "      <td>3.0</td>\n",
       "      <td>1.4</td>\n",
       "      <td>0.2</td>\n",
       "      <td>Iris-setosa</td>\n",
       "    </tr>\n",
       "    <tr>\n",
       "      <th>2</th>\n",
       "      <td>4.7</td>\n",
       "      <td>3.2</td>\n",
       "      <td>1.3</td>\n",
       "      <td>0.2</td>\n",
       "      <td>Iris-setosa</td>\n",
       "    </tr>\n",
       "    <tr>\n",
       "      <th>3</th>\n",
       "      <td>4.6</td>\n",
       "      <td>3.1</td>\n",
       "      <td>1.5</td>\n",
       "      <td>0.2</td>\n",
       "      <td>Iris-setosa</td>\n",
       "    </tr>\n",
       "    <tr>\n",
       "      <th>4</th>\n",
       "      <td>5.0</td>\n",
       "      <td>3.6</td>\n",
       "      <td>1.4</td>\n",
       "      <td>0.2</td>\n",
       "      <td>Iris-setosa</td>\n",
       "    </tr>\n",
       "  </tbody>\n",
       "</table>\n",
       "</div>"
      ],
      "text/plain": [
       "   sepal_length  sepal_width  petal_length  petal_width      species\n",
       "0           5.1          3.5           1.4          0.2  Iris-setosa\n",
       "1           4.9          3.0           1.4          0.2  Iris-setosa\n",
       "2           4.7          3.2           1.3          0.2  Iris-setosa\n",
       "3           4.6          3.1           1.5          0.2  Iris-setosa\n",
       "4           5.0          3.6           1.4          0.2  Iris-setosa"
      ]
     },
     "execution_count": 5,
     "metadata": {},
     "output_type": "execute_result"
    }
   ],
   "source": [
    "# make sure data was read in properly and matches above table\n",
    "iris.head(5)"
   ]
  },
  {
   "cell_type": "markdown",
   "id": "007daf36",
   "metadata": {},
   "source": [
    "# EDA\n",
    "As the beginning of any machine learning project, let us first take a look at what our dataset is like through EDA. \n",
    "\n",
    "**Data dictionary**\n",
    "\n",
    "|    column    |            data definition            | \n",
    "| ------------ | ------------------------------------- | \n",
    "| sepal_length | length of flower sepal in centimeters | \n",
    "| sepal_width  | width of flower sepal in centimeters  | \n",
    "| petal_length | length of flower petal in centimeters |\n",
    "| petal_width  | width of flower sepal in centimeters  |\n",
    "|   species    | species of iris flower                |\n",
    "\n",
    "For additional information, check the dataset's [information on Kaggle](https://www.kaggle.com/datasets/arshid/iris-flower-dataset)."
   ]
  },
  {
   "cell_type": "code",
   "execution_count": 6,
   "id": "a47f4a98",
   "metadata": {},
   "outputs": [
    {
     "data": {
      "application/vnd.jupyter.widget-view+json": {
       "model_id": "d7ca52505d9a4481af659a3c041cfdb5",
       "version_major": 2,
       "version_minor": 0
      },
      "text/plain": [
       "Summarize dataset:   0%|          | 0/5 [00:00<?, ?it/s]"
      ]
     },
     "metadata": {},
     "output_type": "display_data"
    },
    {
     "data": {
      "application/vnd.jupyter.widget-view+json": {
       "model_id": "9c600fc5b8874f789d51b8763e78d010",
       "version_major": 2,
       "version_minor": 0
      },
      "text/plain": [
       "Generate report structure:   0%|          | 0/1 [00:00<?, ?it/s]"
      ]
     },
     "metadata": {},
     "output_type": "display_data"
    },
    {
     "data": {
      "application/vnd.jupyter.widget-view+json": {
       "model_id": "dc140c48a15d4ac38b7d5f93aa5baede",
       "version_major": 2,
       "version_minor": 0
      },
      "text/plain": [
       "Render HTML:   0%|          | 0/1 [00:00<?, ?it/s]"
      ]
     },
     "metadata": {},
     "output_type": "display_data"
    },
    {
     "data": {
      "application/vnd.jupyter.widget-view+json": {
       "model_id": "114594f9f430499cabc671d68dfa49b0",
       "version_major": 2,
       "version_minor": 0
      },
      "text/plain": [
       "Export report to file:   0%|          | 0/1 [00:00<?, ?it/s]"
      ]
     },
     "metadata": {},
     "output_type": "display_data"
    }
   ],
   "source": [
    "# optional: use pandas-profiling to do quick first pass at EDA\n",
    "profile = ProfileReport(iris, title=\"Iris Dataset Profiling Report\")\n",
    "# create html file to view report\n",
    "profile.to_file(\"iris_dataset_report.html\")"
   ]
  },
  {
   "cell_type": "code",
   "execution_count": 7,
   "id": "3b64df4a",
   "metadata": {},
   "outputs": [
    {
     "data": {
      "text/html": [
       "<div>\n",
       "<style scoped>\n",
       "    .dataframe tbody tr th:only-of-type {\n",
       "        vertical-align: middle;\n",
       "    }\n",
       "\n",
       "    .dataframe tbody tr th {\n",
       "        vertical-align: top;\n",
       "    }\n",
       "\n",
       "    .dataframe thead th {\n",
       "        text-align: right;\n",
       "    }\n",
       "</style>\n",
       "<table border=\"1\" class=\"dataframe\">\n",
       "  <thead>\n",
       "    <tr style=\"text-align: right;\">\n",
       "      <th></th>\n",
       "      <th>sepal_length</th>\n",
       "      <th>sepal_width</th>\n",
       "      <th>petal_length</th>\n",
       "      <th>petal_width</th>\n",
       "    </tr>\n",
       "  </thead>\n",
       "  <tbody>\n",
       "    <tr>\n",
       "      <th>count</th>\n",
       "      <td>150.000000</td>\n",
       "      <td>150.000000</td>\n",
       "      <td>150.000000</td>\n",
       "      <td>150.000000</td>\n",
       "    </tr>\n",
       "    <tr>\n",
       "      <th>mean</th>\n",
       "      <td>5.843333</td>\n",
       "      <td>3.054000</td>\n",
       "      <td>3.758667</td>\n",
       "      <td>1.198667</td>\n",
       "    </tr>\n",
       "    <tr>\n",
       "      <th>std</th>\n",
       "      <td>0.828066</td>\n",
       "      <td>0.433594</td>\n",
       "      <td>1.764420</td>\n",
       "      <td>0.763161</td>\n",
       "    </tr>\n",
       "    <tr>\n",
       "      <th>min</th>\n",
       "      <td>4.300000</td>\n",
       "      <td>2.000000</td>\n",
       "      <td>1.000000</td>\n",
       "      <td>0.100000</td>\n",
       "    </tr>\n",
       "    <tr>\n",
       "      <th>25%</th>\n",
       "      <td>5.100000</td>\n",
       "      <td>2.800000</td>\n",
       "      <td>1.600000</td>\n",
       "      <td>0.300000</td>\n",
       "    </tr>\n",
       "    <tr>\n",
       "      <th>50%</th>\n",
       "      <td>5.800000</td>\n",
       "      <td>3.000000</td>\n",
       "      <td>4.350000</td>\n",
       "      <td>1.300000</td>\n",
       "    </tr>\n",
       "    <tr>\n",
       "      <th>75%</th>\n",
       "      <td>6.400000</td>\n",
       "      <td>3.300000</td>\n",
       "      <td>5.100000</td>\n",
       "      <td>1.800000</td>\n",
       "    </tr>\n",
       "    <tr>\n",
       "      <th>max</th>\n",
       "      <td>7.900000</td>\n",
       "      <td>4.400000</td>\n",
       "      <td>6.900000</td>\n",
       "      <td>2.500000</td>\n",
       "    </tr>\n",
       "  </tbody>\n",
       "</table>\n",
       "</div>"
      ],
      "text/plain": [
       "       sepal_length  sepal_width  petal_length  petal_width\n",
       "count    150.000000   150.000000    150.000000   150.000000\n",
       "mean       5.843333     3.054000      3.758667     1.198667\n",
       "std        0.828066     0.433594      1.764420     0.763161\n",
       "min        4.300000     2.000000      1.000000     0.100000\n",
       "25%        5.100000     2.800000      1.600000     0.300000\n",
       "50%        5.800000     3.000000      4.350000     1.300000\n",
       "75%        6.400000     3.300000      5.100000     1.800000\n",
       "max        7.900000     4.400000      6.900000     2.500000"
      ]
     },
     "execution_count": 7,
     "metadata": {},
     "output_type": "execute_result"
    }
   ],
   "source": [
    "# conduct any other EDA that you need to in order to get a good feel for the data\n",
    "iris.describe()"
   ]
  },
  {
   "cell_type": "code",
   "execution_count": 8,
   "id": "0321e216",
   "metadata": {},
   "outputs": [
    {
     "data": {
      "text/plain": [
       "species\n",
       "Iris-setosa        50\n",
       "Iris-versicolor    50\n",
       "Iris-virginica     50\n",
       "dtype: int64"
      ]
     },
     "execution_count": 8,
     "metadata": {},
     "output_type": "execute_result"
    }
   ],
   "source": [
    "# quick look at the intended output shows it has a normal distribution\n",
    "iris.value_counts('species')"
   ]
  },
  {
   "cell_type": "markdown",
   "id": "f419b446",
   "metadata": {},
   "source": [
    "Take a look at the Quest 2 Quiz, and answer the first 4 questions on the results of your EDA on the dataset. With the EDA you have conducted, answer the following questions from the quiz. \n",
    "\n",
    "Note that these questions do not cover everything you should be looking for when doing EDA, they are just to give you an idea of what EDA would look like on such a dataset."
   ]
  },
  {
   "cell_type": "markdown",
   "id": "ce5101a5",
   "metadata": {},
   "source": [
    "## Question 1\n",
    "What is the median petal length of the flowers in the iris dataset?\n",
    "\n",
    "Hint:\n",
    "1. Find out the median value of the 'petal_length' column using the pandas median function, see more about it here: https://pandas.pydata.org/docs/reference/api/pandas.DataFrame.median.html"
   ]
  },
  {
   "cell_type": "code",
   "execution_count": 9,
   "id": "e4d743f3",
   "metadata": {},
   "outputs": [
    {
     "data": {
      "text/plain": [
       "4.35"
      ]
     },
     "execution_count": 9,
     "metadata": {},
     "output_type": "execute_result"
    }
   ],
   "source": [
    "# calculate median of petal length\n",
    "iris['petal_length'].median()\n"
   ]
  },
  {
   "cell_type": "markdown",
   "id": "2ebcfd31",
   "metadata": {},
   "source": [
    "## Question 2\n",
    "What is the index of the flower with the longest sepal length?\n",
    "\n",
    "Hint:\n",
    "1. Find out the max value of the 'sepal_length' column using the pandas max function, see more about it here: https://pandas.pydata.org/docs/reference/api/pandas.DataFrame.max.html\n",
    "2. Find out the index of the max value of the 'sepal_length' column using the pandas idxmax function, see more about it here: https://pandas.pydata.org/docs/reference/api/pandas.DataFrame.idxmax.html"
   ]
  },
  {
   "cell_type": "code",
   "execution_count": 10,
   "id": "127cfbf1",
   "metadata": {},
   "outputs": [
    {
     "name": "stdout",
     "output_type": "stream",
     "text": [
      "The index of the flower with the longest sepal length of 6.9cm is 118\n"
     ]
    }
   ],
   "source": [
    "# find the value and index of the flower with longest sepal length\n",
    "value = iris['petal_length'].max()\n",
    "idx = iris['petal_length'].idxmax()\n",
    "\n",
    "print('The index of the flower with the longest sepal length of ' \n",
    "      + str(value) +'cm is '+ str(idx))"
   ]
  },
  {
   "cell_type": "markdown",
   "id": "8ac6db5d",
   "metadata": {},
   "source": [
    "## Question 3\n",
    "Which two independent variables are most highly correlated with each other?\n",
    "\n",
    "Hint:\n",
    "\n",
    "1. Find out the pairwise correlation of all the variables in the 'iris' dataframe using the pandas corr function with the 'pearson' method, see more about it here: https://pandas.pydata.org/docs/reference/api/pandas.DataFrame.corr.html\n",
    "\n",
    "2. Use the seaborn heatmap function \"sns.heatmap\" to plot the heatmap (remember to set 'annot=True'), read more about it here: https://seaborn.pydata.org/generated/seaborn.heatmap.html"
   ]
  },
  {
   "cell_type": "code",
   "execution_count": 11,
   "id": "c262e0f0",
   "metadata": {},
   "outputs": [
    {
     "data": {
      "image/png": "[encoded data removed]",
      "text/plain": [
       "<Figure size 640x480 with 2 Axes>"
      ]
     },
     "metadata": {},
     "output_type": "display_data"
    }
   ],
   "source": [
    "# let's see the correlation between the variables by plot correlation heatmap\n",
    "\n",
    "sns.heatmap(iris.corr(method='pearson'),annot = True);\n",
    "\n",
    "plt.show()"
   ]
  },
  {
   "cell_type": "markdown",
   "id": "282d016d",
   "metadata": {},
   "source": [
    "## Question 4\n",
    "There are two flowers with the species identified as 'Iris-setosa' which are identical to each other; what are their indexes?\n",
    "\n",
    "Hint:\n",
    "1. Find out the index of the rows that have identical values using the pandas duplicated function, see more about it here: https://pandas.pydata.org/docs/reference/api/pandas.DataFrame.duplicated.html"
   ]
  },
  {
   "cell_type": "code",
   "execution_count": 12,
   "id": "811d81b9",
   "metadata": {},
   "outputs": [
    {
     "name": "stdout",
     "output_type": "stream",
     "text": [
      "     sepal_length  sepal_width  petal_length  petal_width         species\n",
      "34            4.9          3.1           1.5          0.1     Iris-setosa\n",
      "37            4.9          3.1           1.5          0.1     Iris-setosa\n",
      "142           5.8          2.7           5.1          1.9  Iris-virginica\n"
     ]
    }
   ],
   "source": [
    "# find indexes of duplicated rows\n",
    "duplicateRows = iris[iris.duplicated(['species','sepal_length','sepal_width','petal_length','petal_width'])]\n",
    "print(duplicateRows)"
   ]
  },
  {
   "cell_type": "markdown",
   "id": "53a07ad5",
   "metadata": {},
   "source": [
    "# Data Wrangling\n",
    "In this case, we don't have any missing data, so we don't need to do anything about that. We have a few duplicated rows, but they seem to be legitimate data, so we will keep it in. \n",
    "\n",
    "Now that we have an idea of what our data looks like, we need to start preparing it for modelling."
   ]
  },
  {
   "cell_type": "code",
   "execution_count": 13,
   "id": "e17c00a2",
   "metadata": {},
   "outputs": [],
   "source": [
    "# split up our variables\n",
    "X = iris.iloc[:, :-1].values\n",
    "y = iris.iloc[:, 4].values"
   ]
  },
  {
   "cell_type": "code",
   "execution_count": 14,
   "id": "a02a2e2e",
   "metadata": {},
   "outputs": [
    {
     "name": "stdout",
     "output_type": "stream",
     "text": [
      "(150, 4)\n",
      "(150,)\n"
     ]
    }
   ],
   "source": [
    "# the resulting shapes of X and y should be (150, 4) and (150,) respectively\n",
    "print(X.shape)\n",
    "print(y.shape)"
   ]
  },
  {
   "cell_type": "markdown",
   "id": "675653c3",
   "metadata": {},
   "source": [
    "Now we need to split up our data into training and test data. Using scikit-learn's `train_test_split` function, using a `test_size` of 0.2 (i.e. 20% of data in test set), and **ensure that the random state is set to our seed from above**.\n",
    "\n",
    "Documentation for `train_test_split()` can be found here: https://scikit-learn.org/1.1/modules/generated/sklearn.model_selection.train_test_split.html"
   ]
  },
  {
   "cell_type": "code",
   "execution_count": 15,
   "id": "d52bdc38",
   "metadata": {},
   "outputs": [],
   "source": [
    "# do the train test split\n",
    "X_train, X_test, y_train, y_test = train_test_split(X, y, test_size=0.20, random_state=SEED)"
   ]
  },
  {
   "cell_type": "markdown",
   "id": "3df796ff",
   "metadata": {},
   "source": [
    "Now that we split the data, let us check the number of records in the train and test data\n",
    "\n",
    "## Question 5\n",
    "There are __ rows in the train data and __ rows in the test data\n",
    "\n",
    "Hint:\n",
    "1. Find out the number of rows and columns in the train and test data using the pandas shape function, see more about it here: https://pandas.pydata.org/docs/reference/api/pandas.DataFrame.shape.html"
   ]
  },
  {
   "cell_type": "code",
   "execution_count": 16,
   "id": "c65c187a",
   "metadata": {},
   "outputs": [
    {
     "data": {
      "text/plain": [
       "(120, 4)"
      ]
     },
     "execution_count": 16,
     "metadata": {},
     "output_type": "execute_result"
    }
   ],
   "source": [
    "# finding out the shape of the 'X_train' array will be able to check the number of records in the train data\n",
    "X_train.shape"
   ]
  },
  {
   "cell_type": "code",
   "execution_count": 17,
   "id": "0db8a8e1",
   "metadata": {},
   "outputs": [
    {
     "data": {
      "text/plain": [
       "(30,)"
      ]
     },
     "execution_count": 17,
     "metadata": {},
     "output_type": "execute_result"
    }
   ],
   "source": [
    "# finding out the shape of the 'y_test' array will be able to check the number of records in the test data\n",
    "y_test.shape"
   ]
  },
  {
   "cell_type": "markdown",
   "id": "8fc5a6e0",
   "metadata": {},
   "source": [
    "# Modelling\n",
    "Now we can train our model! Instantiate a KNeighborsClassifier model in scikit-learn with a starting 'k' value of '6' (this can be any other number). Then fit the training data on it.\n",
    "\n",
    "Documentation for `KNeighborsClassifier()` can be found here: https://scikit-learn.org/stable/modules/generated/sklearn.neighbors.KNeighborsClassifier.html"
   ]
  },
  {
   "cell_type": "code",
   "execution_count": 18,
   "id": "689fd31b",
   "metadata": {},
   "outputs": [
    {
     "data": {
      "text/html": [
       "<style>#sk-container-id-1 {color: black;background-color: white;}#sk-container-id-1 pre{padding: 0;}#sk-container-id-1 div.sk-toggleable {background-color: white;}#sk-container-id-1 label.sk-toggleable__label {cursor: pointer;display: block;width: 100%;margin-bottom: 0;padding: 0.3em;box-sizing: border-box;text-align: center;}#sk-container-id-1 label.sk-toggleable__label-arrow:before {content: \"▸\";float: left;margin-right: 0.25em;color: #696969;}#sk-container-id-1 label.sk-toggleable__label-arrow:hover:before {color: black;}#sk-container-id-1 div.sk-estimator:hover label.sk-toggleable__label-arrow:before {color: black;}#sk-container-id-1 div.sk-toggleable__content {max-height: 0;max-width: 0;overflow: hidden;text-align: left;background-color: #f0f8ff;}#sk-container-id-1 div.sk-toggleable__content pre {margin: 0.2em;color: black;border-radius: 0.25em;background-color: #f0f8ff;}#sk-container-id-1 input.sk-toggleable__control:checked~div.sk-toggleable__content {max-height: 200px;max-width: 100%;overflow: auto;}#sk-container-id-1 input.sk-toggleable__control:checked~label.sk-toggleable__label-arrow:before {content: \"▾\";}#sk-container-id-1 div.sk-estimator input.sk-toggleable__control:checked~label.sk-toggleable__label {background-color: #d4ebff;}#sk-container-id-1 div.sk-label input.sk-toggleable__control:checked~label.sk-toggleable__label {background-color: #d4ebff;}#sk-container-id-1 input.sk-hidden--visually {border: 0;clip: rect(1px 1px 1px 1px);clip: rect(1px, 1px, 1px, 1px);height: 1px;margin: -1px;overflow: hidden;padding: 0;position: absolute;width: 1px;}#sk-container-id-1 div.sk-estimator {font-family: monospace;background-color: #f0f8ff;border: 1px dotted black;border-radius: 0.25em;box-sizing: border-box;margin-bottom: 0.5em;}#sk-container-id-1 div.sk-estimator:hover {background-color: #d4ebff;}#sk-container-id-1 div.sk-parallel-item::after {content: \"\";width: 100%;border-bottom: 1px solid gray;flex-grow: 1;}#sk-container-id-1 div.sk-label:hover label.sk-toggleable__label {background-color: #d4ebff;}#sk-container-id-1 div.sk-serial::before {content: \"\";position: absolute;border-left: 1px solid gray;box-sizing: border-box;top: 0;bottom: 0;left: 50%;z-index: 0;}#sk-container-id-1 div.sk-serial {display: flex;flex-direction: column;align-items: center;background-color: white;padding-right: 0.2em;padding-left: 0.2em;position: relative;}#sk-container-id-1 div.sk-item {position: relative;z-index: 1;}#sk-container-id-1 div.sk-parallel {display: flex;align-items: stretch;justify-content: center;background-color: white;position: relative;}#sk-container-id-1 div.sk-item::before, #sk-container-id-1 div.sk-parallel-item::before {content: \"\";position: absolute;border-left: 1px solid gray;box-sizing: border-box;top: 0;bottom: 0;left: 50%;z-index: -1;}#sk-container-id-1 div.sk-parallel-item {display: flex;flex-direction: column;z-index: 1;position: relative;background-color: white;}#sk-container-id-1 div.sk-parallel-item:first-child::after {align-self: flex-end;width: 50%;}#sk-container-id-1 div.sk-parallel-item:last-child::after {align-self: flex-start;width: 50%;}#sk-container-id-1 div.sk-parallel-item:only-child::after {width: 0;}#sk-container-id-1 div.sk-dashed-wrapped {border: 1px dashed gray;margin: 0 0.4em 0.5em 0.4em;box-sizing: border-box;padding-bottom: 0.4em;background-color: white;}#sk-container-id-1 div.sk-label label {font-family: monospace;font-weight: bold;display: inline-block;line-height: 1.2em;}#sk-container-id-1 div.sk-label-container {text-align: center;}#sk-container-id-1 div.sk-container {/* jupyter's `normalize.less` sets `[hidden] { display: none; }` but bootstrap.min.css set `[hidden] { display: none !important; }` so we also need the `!important` here to be able to override the default hidden behavior on the sphinx rendered scikit-learn.org. See: https://github.com/scikit-learn/scikit-learn/issues/21755 */display: inline-block !important;position: relative;}#sk-container-id-1 div.sk-text-repr-fallback {display: none;}</style><div id=\"sk-container-id-1\" class=\"sk-top-container\"><div class=\"sk-text-repr-fallback\"><pre>KNeighborsClassifier(n_neighbors=9)</pre><b>In a Jupyter environment, please rerun this cell to show the HTML representation or trust the notebook. <br />On GitHub, the HTML representation is unable to render, please try loading this page with nbviewer.org.</b></div><div class=\"sk-container\" hidden><div class=\"sk-item\"><div class=\"sk-estimator sk-toggleable\"><input class=\"sk-toggleable__control sk-hidden--visually\" id=\"sk-estimator-id-1\" type=\"checkbox\" checked><label for=\"sk-estimator-id-1\" class=\"sk-toggleable__label sk-toggleable__label-arrow\">KNeighborsClassifier</label><div class=\"sk-toggleable__content\"><pre>KNeighborsClassifier(n_neighbors=9)</pre></div></div></div></div></div>"
      ],
      "text/plain": [
       "KNeighborsClassifier(n_neighbors=9)"
      ]
     },
     "execution_count": 18,
     "metadata": {},
     "output_type": "execute_result"
    }
   ],
   "source": [
    "# instantiate kNN classifier model with the 'k' value \n",
    "knn = KNeighborsClassifier(n_neighbors=9)\n",
    "# fit the training data (X_train, y_train) to it\n",
    "knn.fit(X_train, y_train)"
   ]
  },
  {
   "cell_type": "code",
   "execution_count": 19,
   "id": "d62b7058",
   "metadata": {},
   "outputs": [],
   "source": [
    "# obtain predictions of the model using the test data set 'X_test'\n",
    "y_pred = knn.predict(X_test)"
   ]
  },
  {
   "cell_type": "markdown",
   "id": "317b2acb",
   "metadata": {},
   "source": [
    "# Evaluation \n",
    "Now we need to evaluate how our model did. Let's start by gathering some evaluation metrics on how the model predicted against the test data.\n",
    "\n",
    "With a classification report, you will be able to observe the precision, recall, f1-score and support of all the 3  target classes as well as the accuracy of the model."
   ]
  },
  {
   "cell_type": "markdown",
   "id": "44869325",
   "metadata": {},
   "source": [
    "## Question 6\n",
    "What is the precision rate of the model for the classification of 'Iris-versicolor'?\n",
    "\n",
    "Hint:\n",
    "1. Find out the precision rate using the sklearn classification_report function, see more about it here: https://scikit-learn.org/stable/modules/generated/sklearn.metrics.classification_report.html"
   ]
  },
  {
   "cell_type": "code",
   "execution_count": 20,
   "id": "86c6125e",
   "metadata": {},
   "outputs": [
    {
     "name": "stdout",
     "output_type": "stream",
     "text": [
      "                 precision    recall  f1-score   support\n",
      "\n",
      "    Iris-setosa       1.00      1.00      1.00        13\n",
      "Iris-versicolor       0.86      1.00      0.92         6\n",
      " Iris-virginica       1.00      0.91      0.95        11\n",
      "\n",
      "       accuracy                           0.97        30\n",
      "      macro avg       0.95      0.97      0.96        30\n",
      "   weighted avg       0.97      0.97      0.97        30\n",
      "\n"
     ]
    }
   ],
   "source": [
    "# print a classification report of the predicted data 'y_pred' against the test data 'y_test'\n",
    "print(classification_report(y_test,y_pred))"
   ]
  },
  {
   "cell_type": "markdown",
   "id": "fba27853",
   "metadata": {},
   "source": [
    "With a confusion matrix, you will be able to see in detail how many of each flower was correctly or incorrectly classified by the model"
   ]
  },
  {
   "cell_type": "markdown",
   "id": "ea59a5f2",
   "metadata": {},
   "source": [
    "## Question 7\n",
    "How many flowers in total were incorrectly classified by the model?\n",
    "\n",
    "Hint:\n",
    "1. Find out the total number using the sklearn confusion_matrix function, see more about it here:\n",
    "https://scikit-learn.org/stable/modules/generated/sklearn.metrics.confusion_matrix.html"
   ]
  },
  {
   "cell_type": "code",
   "execution_count": 21,
   "id": "fa513c6c",
   "metadata": {},
   "outputs": [
    {
     "data": {
      "text/plain": [
       "array([[13,  0,  0],\n",
       "       [ 0,  6,  0],\n",
       "       [ 0,  1, 10]], dtype=int64)"
      ]
     },
     "execution_count": 21,
     "metadata": {},
     "output_type": "execute_result"
    }
   ],
   "source": [
    "# print a confusion matrix of the predicted data 'y_pred' against the test data 'y_test'\n",
    "confusion_matrix(y_test,y_pred)"
   ]
  },
  {
   "cell_type": "code",
   "execution_count": 22,
   "id": "255efd3c",
   "metadata": {},
   "outputs": [
    {
     "data": {
      "text/plain": [
       "<sklearn.metrics._plot.confusion_matrix.ConfusionMatrixDisplay at 0x18e0107f340>"
      ]
     },
     "execution_count": 22,
     "metadata": {},
     "output_type": "execute_result"
    }
   ],
   "source": [
    "from sklearn.metrics import plot_confusion_matrix\n",
    "fig, ax = plt.subplots(figsize=(8, 5))\n",
    "plot_confusion_matrix(knn,X_test,y_test)"
   ]
  },
  {
   "cell_type": "markdown",
   "id": "04b05d13",
   "metadata": {},
   "source": [
    "## Question 8\n",
    "What is the predicted species of the flower at the first row in the test dataset?\n",
    "\n",
    "Hint:\n",
    "1. Reshape the first row of the test dataset using the pandas reshape function, see more about it here: https://pandas.pydata.org/pandas-docs/version/0.17.0/generated/pandas.Series.reshape.html"
   ]
  },
  {
   "cell_type": "code",
   "execution_count": 23,
   "id": "1ce15a89",
   "metadata": {},
   "outputs": [
    {
     "name": "stdout",
     "output_type": "stream",
     "text": [
      "[[6.3 2.5 4.9 1.5]]\n"
     ]
    }
   ],
   "source": [
    "flower = X_test[0].reshape(1,4)\n",
    "print(flower)"
   ]
  },
  {
   "cell_type": "code",
   "execution_count": 24,
   "id": "960c5ada",
   "metadata": {},
   "outputs": [],
   "source": [
    "# reshape the first row of the test dataset into a 2D array\n",
    "flower = X_test[0].reshape(1,4)\n",
    "# get predicted species for the flower using previous 'predict()' method with trained 'knn' model \n",
    "species = knn.predict(flower)"
   ]
  },
  {
   "cell_type": "code",
   "execution_count": 25,
   "id": "cbfd50cb",
   "metadata": {},
   "outputs": [
    {
     "name": "stdout",
     "output_type": "stream",
     "text": [
      "predicted species of flower: ['Iris-versicolor']\n"
     ]
    }
   ],
   "source": [
    "# display the predicted flower species\n",
    "print(f\"predicted species of flower: {species}\")"
   ]
  },
  {
   "cell_type": "markdown",
   "id": "ce31180c",
   "metadata": {},
   "source": [
    "# Optional Discussion\n",
    "While our model has learned some of the relationships from the data, it still can be improved. One way we could optimise the model is to see what would be the best 'k' value.\n",
    "\n",
    "To do this, let us look at reducing the misclassification rate of our model. We can do this through 'cross-validation' by comparing the misclassification rate of the model when trained with different 'k' values."
   ]
  },
  {
   "cell_type": "code",
   "execution_count": 26,
   "id": "6e4077ec",
   "metadata": {},
   "outputs": [],
   "source": [
    "# creating list of K for KNN\n",
    "k_list = list(range(1,50,2))\n",
    "# creating list to store scores\n",
    "cv_scores = []\n",
    "\n",
    "# for loop to train and store the various accuracy scores for different 'k' values\n",
    "for k in k_list:\n",
    "    knn = KNeighborsClassifier(n_neighbors=k)\n",
    "    scores = cross_val_score(knn, X_train, y_train, cv=10, scoring='accuracy')\n",
    "    cv_scores.append(scores.mean())"
   ]
  },
  {
   "cell_type": "code",
   "execution_count": 27,
   "id": "df3e9373",
   "metadata": {},
   "outputs": [
    {
     "data": {
      "image/png": "[encoded data removed]",
      "text/plain": [
       "<Figure size 800x500 with 1 Axes>"
      ]
     },
     "metadata": {},
     "output_type": "display_data"
    },
    {
     "data": {
      "image/png": "[encoded data removed]",
      "text/plain": [
       "<Figure size 640x480 with 2 Axes>"
      ]
     },
     "metadata": {},
     "output_type": "display_data"
    },
    {
     "data": {
      "text/plain": [
       "<Figure size 640x480 with 0 Axes>"
      ]
     },
     "metadata": {},
     "output_type": "display_data"
    },
    {
     "data": {
      "image/png": "[encoded data removed]",
      "text/plain": [
       "<Figure size 800x400 with 1 Axes>"
      ]
     },
     "metadata": {},
     "output_type": "display_data"
    }
   ],
   "source": [
    "# changing to misclassification error\n",
    "MSE = [1 - x for x in cv_scores]\n",
    "\n",
    "plt.figure()\n",
    "plt.figure(figsize=(8,4))\n",
    "plt.title('The optimal number of neighbors', fontsize=10, fontweight='bold')\n",
    "plt.xlabel('Number of Neighbors K', fontsize=10)\n",
    "plt.ylabel('Misclassification Error', fontsize=10)\n",
    "sns.set_style(\"whitegrid\")\n",
    "plt.plot(k_list, MSE)\n",
    "\n",
    "plt.show()"
   ]
  },
  {
   "cell_type": "code",
   "execution_count": 28,
   "id": "6c0aa825",
   "metadata": {},
   "outputs": [
    {
     "name": "stdout",
     "output_type": "stream",
     "text": [
      "The optimal number of neighbors is 9.\n"
     ]
    }
   ],
   "source": [
    "# finding best k\n",
    "best_k = k_list[MSE.index(min(MSE))]\n",
    "print(\"The optimal number of neighbors is %d.\" % best_k)"
   ]
  },
  {
   "cell_type": "markdown",
   "id": "6b0d77a7",
   "metadata": {},
   "source": [
    "Now that we have found out the optimal number for 'k', retraining the model with this 'k' model should give us a lower misclassification rate.\n",
    "\n",
    "In addition to this, we could look into scaling our variables for a normal distribution as well as optimising other parameters such as distance metrics.\n",
    "\n",
    "Implementing any of the further potential improvements to the model are left as an optional exercise to the reader ;)"
   ]
  },
  {
   "cell_type": "markdown",
   "id": "b769eb9c",
   "metadata": {},
   "source": [
    "# Prepare your Submission\n",
    "Congratulations, you made it to the end of this lesson! Be sure to complete the remaining few quiz questions, and prepare your submission:\n",
    "1. Replace the value of the `NAME` variable with your StackUp name and run the cells below.\n",
    "2. Restart your notebook, then run it from start to end.\n",
    "3. Take a screenshot of the output from the last cell in this notebook. Make sure your screenshot shows your taskbar/dock (i.e. take a screenshot of the whole screen, not just the window).\n",
    "\n",
    "Remember to train your model with the default 'k' value before running the cell below and taking a screenshot"
   ]
  },
  {
   "cell_type": "code",
   "execution_count": 29,
   "id": "a9173a97",
   "metadata": {},
   "outputs": [],
   "source": [
    "# replace this with your StackUp name\n",
    "NAME = \"CEE_AI\""
   ]
  },
  {
   "cell_type": "code",
   "execution_count": 30,
   "id": "997b9b47",
   "metadata": {},
   "outputs": [
    {
     "name": "stdout",
     "output_type": "stream",
     "text": [
      "Name                : CEE_AI\n",
      "predicted species of flower: ['Iris-versicolor']\n"
     ]
    },
    {
     "data": {
      "image/png": "[encoded data removed]",
      "text/plain": [
       "<Figure size 640x480 with 2 Axes>"
      ]
     },
     "metadata": {},
     "output_type": "display_data"
    }
   ],
   "source": [
    "# run this cell, then take a screenshot of the result\n",
    "print(f\"{'Name':<20}: {NAME}\")\n",
    "\n",
    "# get predicted first flower in test data\n",
    "print(f\"predicted species of flower: {species}\")\n",
    "\n",
    "# Creates a confusion matrix\n",
    "cm = confusion_matrix(y_test, y_pred)\n",
    "# Transform to df for easier plotting\n",
    "cm_df = pd.DataFrame(cm,\n",
    "                     index = ['setosa','versicolor','virginica'], \n",
    "                     columns = ['setosa','versicolor','virginica'])\n",
    "sns.heatmap(cm_df, annot=True)\n",
    "plt.title('Accuracy using kNN classification: {0:.3f}'.format(accuracy_score(y_test, y_pred)))\n",
    "plt.ylabel('Actual label')\n",
    "plt.xlabel('Predicted label')\n",
    "\n",
    "plt.show()"
   ]
  },
  {
   "cell_type": "code",
   "execution_count": null,
   "id": "d34f7781",
   "metadata": {},
   "outputs": [],
   "source": []
  }
 ],
 "metadata": {
  "kernelspec": {
   "display_name": "Python 3 (ipykernel)",
   "language": "python",
   "name": "python3"
  },
  "language_info": {
   "codemirror_mode": {
    "name": "ipython",
    "version": 3
   },
   "file_extension": ".py",
   "mimetype": "text/x-python",
   "name": "python",
   "nbconvert_exporter": "python",
   "pygments_lexer": "ipython3",
   "version": "3.10.9"
  }
 },
 "nbformat": 4,
 "nbformat_minor": 5
}
